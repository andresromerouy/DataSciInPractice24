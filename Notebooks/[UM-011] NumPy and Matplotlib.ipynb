{
  "cells": [
    {
      "cell_type": "markdown",
      "metadata": {
        "id": "view-in-github",
        "colab_type": "text"
      },
      "source": [
        "<a href=\"https://colab.research.google.com/github/mikecinnamon/DataSci/blob/main/Notebooks/%5BUM-011%5D%20NumPy%20and%20Matplotlib.ipynb\" target=\"_parent\"><img src=\"https://colab.research.google.com/assets/colab-badge.svg\" alt=\"Open In Colab\"/></a>"
      ]
    },
    {
      "cell_type": "markdown",
      "metadata": {
        "id": "cFejEy-bv18i"
      },
      "source": [
        "# [UM-011] NumPy and Matplotlib"
      ]
    },
    {
      "cell_type": "markdown",
      "metadata": {
        "id": "iBkVzeaBv6np"
      },
      "source": [
        "## NumPy arrays"
      ]
    },
    {
      "cell_type": "code",
      "execution_count": null,
      "metadata": {
        "id": "ZVBvuO4Pv-Yv"
      },
      "outputs": [],
      "source": [
        "import numpy as np"
      ]
    },
    {
      "cell_type": "code",
      "execution_count": null,
      "metadata": {
        "id": "w5Son35wwBQi"
      },
      "outputs": [],
      "source": [
        "arr1 = np.array(range(10))\n",
        "arr1"
      ]
    },
    {
      "cell_type": "code",
      "execution_count": null,
      "metadata": {
        "id": "F4wV9a_awDtG"
      },
      "outputs": [],
      "source": [
        "np.array([2, 'a', True])"
      ]
    },
    {
      "cell_type": "code",
      "execution_count": null,
      "metadata": {
        "id": "VrHN3sZywIKM"
      },
      "outputs": [],
      "source": [
        "np.array([2, True])"
      ]
    },
    {
      "cell_type": "code",
      "execution_count": null,
      "metadata": {
        "id": "XBdqF9o9wLqW"
      },
      "outputs": [],
      "source": [
        "np.array([2, 3.2])"
      ]
    },
    {
      "cell_type": "code",
      "execution_count": null,
      "metadata": {
        "id": "BXTE27GewNeu"
      },
      "outputs": [],
      "source": [
        "arr2 = np.array([[0, 7, 2, 3], [3, 9, -5, 1]])\n",
        "arr2"
      ]
    },
    {
      "cell_type": "code",
      "execution_count": null,
      "metadata": {
        "id": "GbL2JwY8wQow"
      },
      "outputs": [],
      "source": [
        "arr1.shape"
      ]
    },
    {
      "cell_type": "code",
      "execution_count": null,
      "metadata": {
        "id": "7nCYsut1wVlA"
      },
      "outputs": [],
      "source": [
        "arr2.shape"
      ]
    },
    {
      "cell_type": "code",
      "execution_count": null,
      "metadata": {
        "id": "Of1h4HggwXgo"
      },
      "outputs": [],
      "source": [
        "arr1[2]"
      ]
    },
    {
      "cell_type": "code",
      "execution_count": null,
      "metadata": {
        "id": "Yqfc2gcBwZu-"
      },
      "outputs": [],
      "source": [
        "arr2[1, 2]"
      ]
    },
    {
      "cell_type": "markdown",
      "metadata": {
        "id": "qNfxI4b8wcxV"
      },
      "source": [
        "## NumPy functions"
      ]
    },
    {
      "cell_type": "code",
      "execution_count": null,
      "metadata": {
        "id": "X9uCqsgFwjUs"
      },
      "outputs": [],
      "source": [
        "np.sqrt(arr1)"
      ]
    },
    {
      "cell_type": "code",
      "execution_count": null,
      "metadata": {
        "id": "9L8_dvPTwlaE"
      },
      "outputs": [],
      "source": [
        "def f(t):\n",
        "    return 1/(1 + np.exp(t))\n",
        "f(arr2)"
      ]
    },
    {
      "cell_type": "markdown",
      "metadata": {
        "id": "CGWhFYjIwp2U"
      },
      "source": [
        "## Subsetting arrays"
      ]
    },
    {
      "cell_type": "code",
      "execution_count": null,
      "metadata": {
        "id": "OY_2IKb-wuHa"
      },
      "outputs": [],
      "source": [
        "arr1[:3]"
      ]
    },
    {
      "cell_type": "code",
      "execution_count": null,
      "metadata": {
        "id": "6HUe4zMWwxD6"
      },
      "outputs": [],
      "source": [
        "arr2[:1, 1:]"
      ]
    },
    {
      "cell_type": "code",
      "execution_count": null,
      "metadata": {
        "id": "VUrkQl6EwzLF"
      },
      "outputs": [],
      "source": [
        "arr1 > 3"
      ]
    },
    {
      "cell_type": "code",
      "execution_count": null,
      "metadata": {
        "id": "bcTfNOkpw199"
      },
      "outputs": [],
      "source": [
        "arr2 > 2"
      ]
    },
    {
      "cell_type": "code",
      "execution_count": null,
      "metadata": {
        "id": "dtwRs_hJw3xy"
      },
      "outputs": [],
      "source": [
        "arr1[arr1 > 3]"
      ]
    },
    {
      "cell_type": "code",
      "execution_count": null,
      "metadata": {
        "id": "yK-4bhEFfUse"
      },
      "outputs": [],
      "source": [
        "## An example"
      ]
    },
    {
      "cell_type": "code",
      "execution_count": null,
      "metadata": {
        "id": "lLrlXucefUWL"
      },
      "outputs": [],
      "source": [
        "height = [1.65, 1.73, 1.51, 1.63, 1.69, 1.7, 1.81, 1.66, 1.58, 1.66,\n",
        "    1.62, 1.81, 1.75, 1.65, 1.65]\n",
        "weight = [61.6, 59.5, 46.5, 75.3, 47.6, 80.2, 67.5, 64.1, 69.5, 57.0,\n",
        "    68.6, 69.3, 53.2, 66.1, 50.6]\n",
        "gender = ['M', 'M', 'F', 'F', 'M', 'F', 'M', 'F', 'F', 'M', 'F', 'M',\n",
        "    'F', 'M', 'M']"
      ]
    },
    {
      "cell_type": "code",
      "execution_count": null,
      "metadata": {
        "id": "hUZsW2P7fc8z"
      },
      "outputs": [],
      "source": [
        "height = np.array(height)\n",
        "weight = np.array(weight)\n",
        "gender = np.array(gender)"
      ]
    },
    {
      "cell_type": "code",
      "execution_count": null,
      "metadata": {
        "id": "hClJM93Afcrl"
      },
      "outputs": [],
      "source": [
        "bmi = weight/height**2\n",
        "bmi"
      ]
    },
    {
      "cell_type": "code",
      "execution_count": null,
      "metadata": {
        "id": "0IVuZbJ1fohN"
      },
      "outputs": [],
      "source": [
        "bmi.mean().round(1)"
      ]
    },
    {
      "cell_type": "code",
      "execution_count": null,
      "metadata": {
        "id": "MkDrRr4Vfs1z"
      },
      "outputs": [],
      "source": [
        "bmi[gender == 'F'].mean().round(1)"
      ]
    },
    {
      "cell_type": "code",
      "execution_count": null,
      "metadata": {
        "id": "uP0plGSPfsfW"
      },
      "outputs": [],
      "source": [
        "bmi[gender == 'M'].mean().round(1)"
      ]
    },
    {
      "cell_type": "markdown",
      "metadata": {
        "id": "YCOJ0VQlw7Y5"
      },
      "source": [
        "## Plotting with Matplotlib"
      ]
    },
    {
      "cell_type": "code",
      "execution_count": null,
      "metadata": {
        "id": "65c7dhpsxAuM"
      },
      "outputs": [],
      "source": [
        "import matplotlib.pyplot as plt"
      ]
    },
    {
      "cell_type": "code",
      "execution_count": null,
      "metadata": {
        "id": "J7MLF-2oxDNV"
      },
      "outputs": [],
      "source": [
        "t = np.linspace(0, 2, 100)"
      ]
    },
    {
      "cell_type": "code",
      "execution_count": null,
      "metadata": {
        "id": "zpCx4WI8xEvV"
      },
      "outputs": [],
      "source": [
        "plt.figure(figsize=(5,5))\n",
        "plt.title('Figure 1. Three curves')\n",
        "plt.plot(t, t, label='linear', color='black')\n",
        "plt.plot(t, t**2, label='quadratic', color='black', linestyle='dashed')\n",
        "plt.plot(t, t**3, label='cubic', color='black', linestyle='dotted')\n",
        "plt.legend();"
      ]
    }
  ],
  "metadata": {
    "colab": {
      "provenance": [],
      "include_colab_link": true
    },
    "kernelspec": {
      "display_name": "Python 3",
      "name": "python3"
    },
    "language_info": {
      "name": "python"
    }
  },
  "nbformat": 4,
  "nbformat_minor": 0
}