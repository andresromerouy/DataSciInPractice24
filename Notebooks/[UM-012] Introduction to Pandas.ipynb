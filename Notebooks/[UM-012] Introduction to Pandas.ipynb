{
  "cells": [
    {
      "cell_type": "markdown",
      "metadata": {
        "id": "view-in-github",
        "colab_type": "text"
      },
      "source": [
        "<a href=\"https://colab.research.google.com/github/mikecinnamon/DataSci/blob/main/Notebooks/%5BUM-012%5D%20Introduction%20to%20Pandas.ipynb\" target=\"_parent\"><img src=\"https://colab.research.google.com/assets/colab-badge.svg\" alt=\"Open In Colab\"/></a>"
      ]
    },
    {
      "cell_type": "markdown",
      "metadata": {
        "id": "pdYW4i4H94qm"
      },
      "source": [
        "# [UM-012] Introduction to Pandas"
      ]
    },
    {
      "cell_type": "markdown",
      "metadata": {
        "id": "vjbhMkdN-FvC"
      },
      "source": [
        "## The package Pandas"
      ]
    },
    {
      "cell_type": "code",
      "execution_count": null,
      "metadata": {
        "id": "HFKtUnv1-S12"
      },
      "outputs": [],
      "source": [
        "import pandas as pd"
      ]
    },
    {
      "cell_type": "markdown",
      "metadata": {
        "id": "AuhR_os7D5r2"
      },
      "source": [
        "## Pandas series"
      ]
    },
    {
      "cell_type": "code",
      "execution_count": null,
      "metadata": {
        "id": "Sph3ieR7D-rD"
      },
      "outputs": [],
      "source": [
        "s1 = pd.Series([2, 7, 14, 5, 9])\n",
        "s1"
      ]
    },
    {
      "cell_type": "code",
      "execution_count": null,
      "metadata": {
        "id": "cf-ES3WdEtRe"
      },
      "outputs": [],
      "source": [
        "s1.values"
      ]
    },
    {
      "cell_type": "code",
      "execution_count": null,
      "metadata": {
        "id": "chAH4kfWE0JX"
      },
      "outputs": [],
      "source": [
        "s1.index"
      ]
    },
    {
      "cell_type": "code",
      "execution_count": null,
      "metadata": {
        "id": "KKhZ0q5iE2gt"
      },
      "outputs": [],
      "source": [
        "s2 = pd.Series([1, 5, 'Messi'], index = ['a', 'b', 'c'])\n",
        "s2"
      ]
    },
    {
      "cell_type": "code",
      "execution_count": null,
      "metadata": {
        "id": "BOKPh7EwE7yq"
      },
      "outputs": [],
      "source": [
        "s2.index"
      ]
    },
    {
      "cell_type": "code",
      "execution_count": null,
      "metadata": {
        "id": "gB11JtzdE_PT"
      },
      "outputs": [],
      "source": [
        "s2.index[-2:]"
      ]
    },
    {
      "cell_type": "markdown",
      "metadata": {
        "id": "CjdE0Uw4FCHV"
      },
      "source": [
        "## Pandas data frames"
      ]
    },
    {
      "cell_type": "code",
      "execution_count": null,
      "metadata": {
        "id": "w3hxqoo6FG6F"
      },
      "outputs": [],
      "source": [
        "height = [1.65, 1.73, 1.51, 1.63, 1.69, 1.7, 1.81, 1.66, 1.58, 1.66,\n",
        "    1.62, 1.81, 1.75, 1.65, 1.65]\n",
        "weight = [61.6, 59.5, 46.5, 75.3, 47.6, 80.2, 67.5, 64.1, 69.5, 57.0,\n",
        "    68.6, 69.3, 53.2, 66.1, 50.6]\n",
        "gender = ['M', 'M', 'F', 'F', 'M', 'F', 'M', 'F', 'F', 'M', 'F', 'M',\n",
        "    'F', 'M', 'M']"
      ]
    },
    {
      "cell_type": "code",
      "execution_count": null,
      "metadata": {
        "id": "esatRSz6Ghhd"
      },
      "outputs": [],
      "source": [
        "bio = pd.DataFrame({'height': height, 'weight': weight, 'gender': gender})\n",
        "bio"
      ]
    },
    {
      "cell_type": "code",
      "execution_count": null,
      "metadata": {
        "id": "EZH53EvGGjfL"
      },
      "outputs": [],
      "source": [
        "bio.index"
      ]
    },
    {
      "cell_type": "code",
      "execution_count": null,
      "metadata": {
        "id": "CpiBkbh8GmaQ"
      },
      "outputs": [],
      "source": [
        "bio.columns"
      ]
    },
    {
      "cell_type": "markdown",
      "metadata": {
        "id": "vMkLY8twGtJL"
      },
      "source": [
        "## Exploring Pandas objects"
      ]
    },
    {
      "cell_type": "code",
      "execution_count": null,
      "metadata": {
        "id": "Z34t-0DkjFEU"
      },
      "outputs": [],
      "source": [
        "bio.shape"
      ]
    },
    {
      "cell_type": "code",
      "execution_count": null,
      "metadata": {
        "id": "oAkIcH6nGxOx"
      },
      "outputs": [],
      "source": [
        "bio.head(2)"
      ]
    },
    {
      "cell_type": "code",
      "execution_count": null,
      "metadata": {
        "id": "pP-3g0DmG043"
      },
      "outputs": [],
      "source": [
        "bio.info()"
      ]
    },
    {
      "cell_type": "code",
      "execution_count": null,
      "metadata": {
        "id": "8dMHn2IHG3EW"
      },
      "outputs": [],
      "source": [
        "bio.describe()"
      ]
    },
    {
      "cell_type": "markdown",
      "metadata": {
        "id": "vtdhc7EKG_Y_"
      },
      "source": [
        "## Subsetting data frames"
      ]
    },
    {
      "cell_type": "code",
      "execution_count": null,
      "metadata": {
        "id": "oQR1qbj7HKnl"
      },
      "outputs": [],
      "source": [
        "bio['height']"
      ]
    },
    {
      "cell_type": "code",
      "execution_count": null,
      "metadata": {
        "id": "k_KuN1h-HNlX"
      },
      "outputs": [],
      "source": [
        "bio[['height', 'weight']]"
      ]
    },
    {
      "cell_type": "code",
      "execution_count": null,
      "metadata": {
        "id": "we8KsLzTHRzo"
      },
      "outputs": [],
      "source": [
        "bio['bmi'] = bio['weight']/bio['height']**2\n",
        "bio"
      ]
    },
    {
      "cell_type": "code",
      "execution_count": null,
      "metadata": {
        "id": "w4FVuNYRHUqj"
      },
      "outputs": [],
      "source": [
        "male = (bio['gender'] == 'M')\n",
        "male"
      ]
    },
    {
      "cell_type": "code",
      "execution_count": null,
      "metadata": {
        "id": "d406PmYwHWon"
      },
      "outputs": [],
      "source": [
        "bio[male]"
      ]
    },
    {
      "cell_type": "code",
      "execution_count": null,
      "metadata": {
        "id": "vz65oZhnjilu"
      },
      "outputs": [],
      "source": [
        "bio[male][['height', 'weight']]"
      ]
    }
  ],
  "metadata": {
    "colab": {
      "provenance": [],
      "include_colab_link": true
    },
    "kernelspec": {
      "display_name": "Python 3",
      "name": "python3"
    },
    "language_info": {
      "name": "python"
    }
  },
  "nbformat": 4,
  "nbformat_minor": 0
}