{
  "nbformat": 4,
  "nbformat_minor": 0,
  "metadata": {
    "colab": {
      "provenance": [],
      "include_colab_link": true
    },
    "kernelspec": {
      "name": "python3",
      "display_name": "Python 3"
    },
    "language_info": {
      "name": "python"
    }
  },
  "cells": [
    {
      "cell_type": "markdown",
      "metadata": {
        "id": "view-in-github",
        "colab_type": "text"
      },
      "source": [
        "<a href=\"https://colab.research.google.com/github/mikecinnamon/DataSci/blob/main/Notebooks/%5BUM-01E2%5D%20Example%20-%20Barcelona%20Airbnb%20listings.ipynb\" target=\"_parent\"><img src=\"https://colab.research.google.com/assets/colab-badge.svg\" alt=\"Open In Colab\"/></a>"
      ]
    },
    {
      "cell_type": "markdown",
      "source": [
        "# [UM-01E2] Example - Barcelona Airbnb listings"
      ],
      "metadata": {
        "id": "6g62CkuzDXzt"
      }
    },
    {
      "cell_type": "markdown",
      "source": [
        "## Importing the data\n"
      ],
      "metadata": {
        "id": "1Yu7Oo9jGCDi"
      }
    },
    {
      "cell_type": "code",
      "source": [
        "import pandas as pd\n"
      ],
      "metadata": {
        "id": "1veGfDyfGM3G"
      },
      "execution_count": null,
      "outputs": []
    },
    {
      "cell_type": "code",
      "source": [
        "path = 'https://raw.githubusercontent.com/mikecinnamon/DataSci/main/Data/'"
      ],
      "metadata": {
        "id": "pV97f5jKGPo8"
      },
      "execution_count": null,
      "outputs": []
    },
    {
      "cell_type": "code",
      "source": [
        "df = pd.read_csv(path + 'airbnb.csv', index_col=0)"
      ],
      "metadata": {
        "id": "iEllIH-KGVht"
      },
      "execution_count": null,
      "outputs": []
    },
    {
      "cell_type": "markdown",
      "source": [
        "## Exploring the data"
      ],
      "metadata": {
        "id": "IwWQsuLLh-Mq"
      }
    },
    {
      "cell_type": "code",
      "source": [
        "df.info()"
      ],
      "metadata": {
        "id": "hDnUdHrpGX6Q"
      },
      "execution_count": null,
      "outputs": []
    },
    {
      "cell_type": "code",
      "source": [
        "df.head()"
      ],
      "metadata": {
        "id": "x_fFpsmvGaq-"
      },
      "execution_count": null,
      "outputs": []
    },
    {
      "cell_type": "markdown",
      "source": [
        "## Q1. Duplicate listings"
      ],
      "metadata": {
        "id": "G-wXKnsEGctw"
      }
    },
    {
      "cell_type": "code",
      "source": [
        "df.index.duplicated().sum()"
      ],
      "metadata": {
        "id": "aDdioP15G3ua"
      },
      "execution_count": null,
      "outputs": []
    },
    {
      "cell_type": "code",
      "source": [
        "df.duplicated().sum()"
      ],
      "metadata": {
        "id": "zMxwHB3VG8cq"
      },
      "execution_count": null,
      "outputs": []
    },
    {
      "cell_type": "code",
      "source": [
        "df = df.drop_duplicates()"
      ],
      "metadata": {
        "id": "LV9foJyhG-_l"
      },
      "execution_count": null,
      "outputs": []
    },
    {
      "cell_type": "code",
      "source": [
        "df.shape"
      ],
      "metadata": {
        "id": "X9U7__NAHCmh"
      },
      "execution_count": null,
      "outputs": []
    },
    {
      "cell_type": "markdown",
      "source": [
        "## Q2. Proportion of listings with missing ratings"
      ],
      "metadata": {
        "id": "i60EmJDsHGLi"
      }
    },
    {
      "cell_type": "code",
      "source": [
        "df.isna().mean()"
      ],
      "metadata": {
        "id": "8YhNTk8DHODB"
      },
      "execution_count": null,
      "outputs": []
    },
    {
      "cell_type": "code",
      "source": [
        "df['review_scores_rating'].isna().mean().round(3)"
      ],
      "metadata": {
        "id": "hQQr3JteHWa9"
      },
      "execution_count": null,
      "outputs": []
    },
    {
      "cell_type": "markdown",
      "source": [
        "## Q3. Distribution of the price"
      ],
      "metadata": {
        "id": "fNcX176oHZFy"
      }
    },
    {
      "cell_type": "code",
      "source": [
        "df['price'].plot.hist(figsize=(7,5), title='Figure 1. Distribution of the price',\n",
        "    color='gray', edgecolor='white', xlabel='Price per night (euros)');"
      ],
      "metadata": {
        "id": "QTPQ4CMxIh8T"
      },
      "execution_count": null,
      "outputs": []
    },
    {
      "cell_type": "code",
      "source": [
        "df['price'].describe()"
      ],
      "metadata": {
        "id": "LdzTvakCIlvU"
      },
      "execution_count": null,
      "outputs": []
    },
    {
      "cell_type": "code",
      "source": [
        "filter = df['price'].between(25,175)"
      ],
      "metadata": {
        "id": "3bKzFLziIoLa"
      },
      "execution_count": null,
      "outputs": []
    },
    {
      "cell_type": "code",
      "source": [
        "df['price'][filter].plot.hist(figsize=(7,5),\n",
        "    title='Figure 2. Distribution of the price (trimmed data)',\n",
        "    color='gray', edgecolor='white', bins=30, xlabel='Price per night (euros)');"
      ],
      "metadata": {
        "id": "cly3AC54jYJI"
      },
      "execution_count": null,
      "outputs": []
    },
    {
      "cell_type": "markdown",
      "source": [
        "## Q4. Average price per room type"
      ],
      "metadata": {
        "id": "1606yYUuIzCl"
      }
    },
    {
      "cell_type": "code",
      "source": [
        "pd.pivot_table(df, values='price', index='room_type', aggfunc='mean').round()"
      ],
      "metadata": {
        "id": "cYwcH51QJIjK"
      },
      "execution_count": null,
      "outputs": []
    },
    {
      "cell_type": "code",
      "source": [
        "pd.pivot_table(df, values='price', index='room_type', aggfunc='median')"
      ],
      "metadata": {
        "id": "oGseUnn0JNdA"
      },
      "execution_count": null,
      "outputs": []
    },
    {
      "cell_type": "code",
      "source": [
        "roomtype_price =  pd.pivot_table(df, values='price', index='room_type', aggfunc='median')\n",
        "roomtype_price.plot.bar(figsize=(7,5), legend=False,\n",
        "    title='Figure 3. Median price per room type', xlabel='Room type',\n",
        "    color='gray', ylabel='Price per night (euros)');"
      ],
      "metadata": {
        "id": "84GTHUsljn5n"
      },
      "execution_count": null,
      "outputs": []
    },
    {
      "cell_type": "markdown",
      "source": [
        "## Q5. Top-10 neighbourhoods"
      ],
      "metadata": {
        "id": "EaDInVyIJf0W"
      }
    },
    {
      "cell_type": "code",
      "source": [
        "df['neighbourhood'].value_counts().head(10)"
      ],
      "metadata": {
        "id": "Te2qQtFWJjM8"
      },
      "execution_count": null,
      "outputs": []
    },
    {
      "cell_type": "code",
      "source": [
        "df.groupby(by='neighbourhood')['price'].agg(['count', 'median']).sort_values(by='count', ascending=False).head(10)"
      ],
      "metadata": {
        "id": "ijhbjmpPJmaD"
      },
      "execution_count": null,
      "outputs": []
    }
  ]
}